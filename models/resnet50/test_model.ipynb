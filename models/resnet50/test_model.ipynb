{
 "cells": [
  {
   "cell_type": "code",
   "execution_count": 1,
   "metadata": {},
   "outputs": [],
   "source": [
    "from glob import glob\n",
    "import xml.etree.ElementTree as ET\n",
    "\n",
    "import cv2\n",
    "import numpy as np\n",
    "from sklearn.model_selection import train_test_split\n",
    "from keras.models import load_model\n"
   ]
  },
  {
   "cell_type": "code",
   "execution_count": 2,
   "metadata": {},
   "outputs": [],
   "source": [
    "images = []\n",
    "original_images = []\n",
    "annotations = []\n",
    "\n",
    "for img, annotation in zip(glob('../../dataset/images/*.png'), glob('../../dataset/annotations/*.xml')):\n",
    "    image = cv2.imread(img)\n",
    "    original_images.append(image)\n",
    "\n",
    "    xml = ET.parse(annotation)\n",
    "    info = xml.getroot().find('object').find('bndbox')\n",
    "    xmin = int(info.find('xmin').text)\n",
    "    ymin = int(info.find('ymin').text)\n",
    "    xmax = int(info.find('xmax').text)\n",
    "    ymax = int(info.find('ymax').text)\n",
    "\n",
    "    shape = image.shape\n",
    "    xmin = xmin / shape[1]\n",
    "    xmax = xmax / shape[1]\n",
    "    ymin = ymin / shape[0]\n",
    "    ymax = ymax / shape[0]\n",
    "\n",
    "    image = cv2.resize(image, (224, 224))\n",
    "\n",
    "    images.append(image)\n",
    "    annotations.append((xmin, ymin, xmax, ymax))\n",
    "\n",
    "images = np.array(images) / 255\n",
    "annotations = np.array(annotations)\n"
   ]
  },
  {
   "cell_type": "code",
   "execution_count": 3,
   "metadata": {},
   "outputs": [],
   "source": [
    "x_train, x_test, y_train, y_test = train_test_split(images, annotations, test_size=0.2, random_state=42)\n",
    "x_test, x_val, y_test, y_val = train_test_split(x_test, y_test, test_size=0.5, random_state=42)\n",
    "original_x_train, original_x_test, _, _ = train_test_split(original_images, annotations, test_size=0.2, random_state=42)\n",
    "original_x_test, original_x_val, _, _ = train_test_split(original_x_test, original_x_test, test_size=0.5, random_state=42)\n"
   ]
  },
  {
   "cell_type": "code",
   "execution_count": 4,
   "metadata": {},
   "outputs": [
    {
     "name": "stdout",
     "output_type": "stream",
     "text": [
      "2/2 [==============================] - 3s 270ms/step\n"
     ]
    }
   ],
   "source": [
    "model = load_model('./model_500.h5')\n",
    "y_pred = model.predict(x_test)\n"
   ]
  },
  {
   "cell_type": "code",
   "execution_count": 5,
   "metadata": {},
   "outputs": [],
   "source": [
    "for i, a in enumerate(zip(y_pred, y_test)):\n",
    "    x, y = a\n",
    "\n",
    "    xmin, ymin, xmax, ymax = x[0], x[1], x[2], x[3]\n",
    "    xmin, xmax = int(xmin * original_x_test[i].shape[1]), int(xmax * original_x_test[i].shape[1])\n",
    "    ymin, ymax = int(ymin * original_x_test[i].shape[0]), int(ymax * original_x_test[i].shape[0])\n",
    "\n",
    "    # constant = 50\n",
    "    # box = original_x_test[i][max(0, ymin - constant):min(original_x_test[i].shape[0], ymax + constant), max(0, xmin - constant):min(original_x_test[i].shape[1], xmax + constant)]\n",
    "\n",
    "    box = cv2.rectangle(original_x_test[i], (xmin, ymin), (xmax, ymax), (0, 255, 0), 2)\n",
    "\n",
    "    if min(box.shape) == 0:\n",
    "        print(i)\n",
    "        continue\n",
    "\n",
    "    cv2.imwrite(f'./results/image_{i}.png', box)\n"
   ]
  }
 ],
 "metadata": {
  "kernelspec": {
   "display_name": "Python 3.9.12 ('tf')",
   "language": "python",
   "name": "python3"
  },
  "language_info": {
   "codemirror_mode": {
    "name": "ipython",
    "version": 3
   },
   "file_extension": ".py",
   "mimetype": "text/x-python",
   "name": "python",
   "nbconvert_exporter": "python",
   "pygments_lexer": "ipython3",
   "version": "3.9.12"
  },
  "orig_nbformat": 4,
  "vscode": {
   "interpreter": {
    "hash": "0d4145756fc1ff49eb402fff0fe48f1eeee4f832bb02e6b51f5a8ece64bc12c2"
   }
  }
 },
 "nbformat": 4,
 "nbformat_minor": 2
}
