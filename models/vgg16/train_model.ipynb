{
 "cells": [
  {
   "cell_type": "code",
   "execution_count": null,
   "metadata": {},
   "outputs": [],
   "source": [
    "from glob import glob\n",
    "import xml.etree.ElementTree as ET\n",
    "\n",
    "import cv2\n",
    "import numpy as np\n",
    "from keras.applications import VGG16\n",
    "from keras.layers import Dense, Flatten\n",
    "from keras.models import Sequential\n",
    "from sklearn.model_selection import train_test_split\n"
   ]
  },
  {
   "cell_type": "code",
   "execution_count": null,
   "metadata": {},
   "outputs": [],
   "source": [
    "images = []\n",
    "annotations = []\n",
    "\n",
    "for img, annotation in zip(glob('../../dataset/images/*.png'), glob('../../dataset/annotations/*.xml')):\n",
    "    image = cv2.imread(img)\n",
    "\n",
    "    xml = ET.parse(annotation)\n",
    "    info = xml.getroot().find('object').find('bndbox')\n",
    "    xmin = int(info.find('xmin').text)\n",
    "    ymin = int(info.find('ymin').text)\n",
    "    xmax = int(info.find('xmax').text)\n",
    "    ymax = int(info.find('ymax').text)\n",
    "\n",
    "    shape = image.shape\n",
    "    xmin = xmin / shape[1]\n",
    "    xmax = xmax / shape[1]\n",
    "    ymin = ymin / shape[0]\n",
    "    ymax = ymax / shape[0]\n",
    "\n",
    "    image = cv2.resize(image, (224, 224))\n",
    "\n",
    "    images.append(image)\n",
    "    annotations.append((xmin, ymin, xmax, ymax))\n",
    "\n",
    "images = np.array(images) / 255\n",
    "annotations = np.array(annotations)\n"
   ]
  },
  {
   "cell_type": "code",
   "execution_count": null,
   "metadata": {},
   "outputs": [],
   "source": [
    "x_train, x_test, y_train, y_test = train_test_split(images, annotations, test_size=0.2, random_state=42)\n",
    "x_test, x_val, y_test, y_val = train_test_split(x_test, y_test, test_size=0.5, random_state=42)\n"
   ]
  },
  {
   "cell_type": "code",
   "execution_count": null,
   "metadata": {},
   "outputs": [],
   "source": [
    "model = Sequential()\n",
    "model.add(VGG16(weights='imagenet', include_top=False, input_shape=(224, 224, 3)))\n",
    "model.add(Flatten())\n",
    "model.add(Dense(128, activation='relu'))\n",
    "model.add(Dense(64, activation='relu'))\n",
    "model.add(Dense(64, activation='relu'))\n",
    "model.add(Dense(4, activation='sigmoid'))\n",
    "\n",
    "model.layers[0].trainable = False\n",
    "\n",
    "model.summary()\n"
   ]
  },
  {
   "cell_type": "code",
   "execution_count": null,
   "metadata": {},
   "outputs": [],
   "source": [
    "model.compile(optimizer='adam', loss='mse')\n",
    "history = model.fit(np.array(x_train), np.array(y_train), validation_data=(np.array(x_val), np.array(y_val)), epochs=500)\n"
   ]
  },
  {
   "cell_type": "code",
   "execution_count": null,
   "metadata": {},
   "outputs": [],
   "source": [
    "model.save('./model_500.h5')\n"
   ]
  }
 ],
 "metadata": {
  "kernelspec": {
   "display_name": "Python 3.9.12 ('tf')",
   "language": "python",
   "name": "python3"
  },
  "language_info": {
   "codemirror_mode": {
    "name": "ipython",
    "version": 3
   },
   "file_extension": ".py",
   "mimetype": "text/x-python",
   "name": "python",
   "nbconvert_exporter": "python",
   "pygments_lexer": "ipython3",
   "version": "3.9.12"
  },
  "orig_nbformat": 4,
  "vscode": {
   "interpreter": {
    "hash": "0d4145756fc1ff49eb402fff0fe48f1eeee4f832bb02e6b51f5a8ece64bc12c2"
   }
  }
 },
 "nbformat": 4,
 "nbformat_minor": 2
}
